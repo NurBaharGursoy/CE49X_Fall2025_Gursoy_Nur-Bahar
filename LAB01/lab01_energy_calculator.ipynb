{
 "cells": [
  {
   "cell_type": "markdown",
   "metadata": {},
   "source": [
    "# CE 49X - Lab 01: Building Energy Calculator\n",
    "\n",
    "**Student Name:** _____Nur Bahar Gürsoy ___________  \n",
    "**Student ID:** __2022403117______________  \n",
    "**Date:** __06.10.2025______________\n",
    "\n",
    "---\n",
    "\n",
    "## Introduction\n",
    "\n",
    "Welcome to Lab 1! In this lab, you'll analyze building energy consumption using Python. Energy efficiency is crucial in civil engineering - buildings consume about 40% of global energy!\n",
    "\n",
    "You'll work with:\n",
    "- Variables and data types\n",
    "- Lists and dictionaries\n",
    "- Loops and conditionals\n",
    "- Functions\n",
    "- String formatting\n",
    "\n",
    "**Important:** Read the PDF instructions (`lab01_instructions.pdf`) for complete details!\n",
    "\n",
    "---"
   ]
  },
  {
   "cell_type": "markdown",
   "metadata": {},
   "source": [
    "## Exercise 1: Energy Consumption Basics (20 points)\n",
    "\n",
    "### Part A: Daily Energy Calculation (8 points)\n",
    "\n",
    "A commercial building has the following daily energy consumption:\n",
    "- Lighting: 450 kWh\n",
    "- HVAC: 1200 kWh\n",
    "- Equipment: 350 kWh\n",
    "- Other: 180 kWh\n",
    "\n",
    "**Tasks:**\n",
    "1. Create variables for each energy component\n",
    "2. Calculate total daily energy consumption\n",
    "3. Calculate monthly consumption (30 days)\n",
    "4. Print results with f-strings"
   ]
  },
  {
   "cell_type": "code",
   "execution_count": null,
   "metadata": {},
   "outputs": [
    {
     "name": "stdout",
     "output_type": "stream",
     "text": [
      "Daily Energy Consumption:\n",
      " Lighting: 450.00 kWh\n",
      " HVAC: 1200.00 kWh\n",
      " Equipment: 350.00 kWh\n",
      " Other: 180.00 kWh\n",
      "\n",
      "Daily Total: 2180.00 kWh\n",
      "\n",
      "Monthly Consumption: 65400.00 kWh\n"
     ]
    }
   ],
   "source": [
    "# Exercise 1A: Daily Energy Calculation\n",
    "\n",
    "# TODO: Create variables for each energy component\n",
    "lighting = 450 \n",
    "hvac = 1200 \n",
    "equipment = 350 \n",
    "other = 180\n",
    "\n",
    "# TODO: Calculate total daily consumption\n",
    "daily_total = lighting + hvac + equipment + other # Sum of all energy components\n",
    "\n",
    "# TODO: Calculate monthly consumption (30 days)\n",
    "monthly_total = daily_total * 30 # Multiply daily total by 30 to get monthly value\n",
    "\n",
    "# TODO: Print results using f-strings\n",
    "print(\"Daily Energy Consumption:\") \n",
    "print(f\" Lighting: {lighting:.2f} kWh\") # Show lighting energy with 2 decimals\n",
    "print(f\" HVAC: {hvac:.2f} kWh\") # Show hvac energy with 2 decimals\n",
    "print(f\" Equipment: {equipment:.2f} kWh\") # Show equipment energy with 2 decimals\n",
    "print(f\" Other: {other:.2f} kWh\") # Show other energy with 2 decimals\n",
    "print(f\"\\nDaily Total: {daily_total:.2f} kWh\") # Print total daily consumption\n",
    "# Add more print statements here\n",
    "\n",
    "print(f\"\\nMonthly Consumption: {monthly_total:.2f} kWh\") # Print total monthly consumption"
   ]
  },
  {
   "cell_type": "markdown",
   "metadata": {},
   "source": [
    "### Part B: Unit Conversion (6 points)\n",
    "\n",
    "Convert the monthly energy consumption:\n",
    "- From kWh to MJ (1 kWh = 3.6 MJ)\n",
    "- From MJ to GJ (1 GJ = 1000 MJ)"
   ]
  },
  {
   "cell_type": "code",
   "execution_count": null,
   "metadata": {},
   "outputs": [
    {
     "name": "stdout",
     "output_type": "stream",
     "text": [
      "Monthly Consumption:\n",
      " 65400.00 kWh\n",
      " 235440.00 MJ\n",
      " 235.44 GJ\n"
     ]
    }
   ],
   "source": [
    "# Exercise 1B: Unit Conversion\n",
    "\n",
    "# TODO: Convert monthly consumption to MJ\n",
    "monthly_mj = monthly_total * 3.6 # monthly_total is found in Exercise 1A\n",
    "\n",
    "# TODO: Convert to GJ\n",
    "monthly_gj = monthly_mj / 1000\n",
    "\n",
    "# TODO: Print results\n",
    "print(f\"Monthly Consumption:\")\n",
    "print(f\" {monthly_total:.2f} kWh\")\n",
    "print(f\" {monthly_mj:.2f} MJ\")\n",
    "print(f\" {monthly_gj:.2f} GJ\")\n",
    "# Add more conversions"
   ]
  },
  {
   "cell_type": "markdown",
   "metadata": {},
   "source": [
    "### Part C: Cost Calculation (6 points)\n",
    "\n",
    "Calculate costs using standard rate: 0.12 USD/kWh"
   ]
  },
  {
   "cell_type": "code",
   "execution_count": null,
   "metadata": {},
   "outputs": [
    {
     "name": "stdout",
     "output_type": "stream",
     "text": [
      "Energy Costs:\n",
      "  Monthly: $7,848.00\n",
      "  Annual:  $94,176.00\n"
     ]
    }
   ],
   "source": [
    "# Exercise 1C: Cost Calculation\n",
    "\n",
    "# TODO: Define the rate\n",
    "standard_rate = 0.12  # USD/kWh\n",
    "\n",
    "# TODO: Calculate monthly cost\n",
    "monthly_cost = monthly_total * standard_rate # monthly_total is found in Exercise 1A\n",
    "\n",
    "# TODO: Calculate annual cost\n",
    "annual_cost = monthly_cost * 12\n",
    "\n",
    "# TODO: Print results formatted as currency\n",
    "print(f\"Energy Costs:\")\n",
    "print(f\"  Monthly: ${monthly_cost:,.2f}\")\n",
    "print(f\"  Annual:  ${annual_cost:,.2f}\")\n",
    "# Add annual cost"
   ]
  },
  {
   "cell_type": "markdown",
   "metadata": {},
   "source": [
    "---\n",
    "\n",
    "## Exercise 2: Building Energy Analysis (25 points)\n",
    "\n",
    "Analyze energy data for multiple buildings.\n",
    "\n",
    "### Given Data"
   ]
  },
  {
   "cell_type": "code",
   "execution_count": 7,
   "metadata": {},
   "outputs": [],
   "source": [
    "# Given data - DO NOT MODIFY\n",
    "buildings = ['Office A', 'Retail B', 'School C', 'Hospital D', 'Apartment E']\n",
    "monthly_consumption = [85000, 62000, 48000, 125000, 71000]  # kWh\n",
    "floor_area = [2500, 1800, 3200, 4000, 2800]  # m^2"
   ]
  },
  {
   "cell_type": "markdown",
   "metadata": {},
   "source": [
    "### Part A: Energy Intensity Calculation (10 points)\n",
    "\n",
    "Energy Intensity = Monthly Consumption / Floor Area (kWh/m²/month)"
   ]
  },
  {
   "cell_type": "code",
   "execution_count": null,
   "metadata": {},
   "outputs": [
    {
     "name": "stdout",
     "output_type": "stream",
     "text": [
      "Office A: 85000 kWh / 2500 m^2 = 34.00 kWh/m^2/month\n",
      "Retail B: 62000 kWh / 1800 m^2 = 34.44 kWh/m^2/month\n",
      "School C: 48000 kWh / 3200 m^2 = 15.00 kWh/m^2/month\n",
      "Hospital D: 125000 kWh / 4000 m^2 = 31.25 kWh/m^2/month\n",
      "Apartment E: 71000 kWh / 2800 m^2 = 25.36 kWh/m^2/month\n"
     ]
    }
   ],
   "source": [
    "# Exercise 2A: Energy Intensity\n",
    "\n",
    "# TODO: Create empty list for energy intensity\n",
    "energy_intensity = [] # Create an empty list to store intensity values for each building\n",
    "\n",
    "# TODO: Use for loop with enumerate to calculate intensity for each building\n",
    "for i, building in enumerate(buildings): # enumerate gives both the index (i) and the value (building) for each list element\n",
    "    # Calculate intensity\n",
    "    intensity = monthly_consumption[i] / floor_area[i] # Energy intensity = ith monthly energy / ith floor area\n",
    "    \n",
    "    # Add to list\n",
    "    energy_intensity.append(intensity) # Add the calculated intensity to the list\n",
    "    \n",
    "    # Print information\n",
    "    print(f\"{building}: {monthly_consumption[i]} kWh / {floor_area[i]} m^2 = {intensity:.2f} kWh/m^2/month\") # Prints the building name, monthly consumption/floor area and calculated intensity nicely formatted"
   ]
  },
  {
   "cell_type": "markdown",
   "metadata": {},
   "source": [
    "### Part B: Statistical Analysis (8 points)\n",
    "\n",
    "Calculate statistics for the building dataset."
   ]
  },
  {
   "cell_type": "code",
   "execution_count": null,
   "metadata": {},
   "outputs": [
    {
     "name": "stdout",
     "output_type": "stream",
     "text": [
      "==================================================\n",
      "Statistical Summary\n",
      "==================================================\n",
      "Total Monthly Consumption: 391,000 kWh\n",
      "Average Monthly Consumption: 78,200.00 kWh\n",
      "Highest Consumption: 125,000 kWh\n",
      "Lowest Consumption: 48,000 kWh\n"
     ]
    }
   ],
   "source": [
    "# Exercise 2B: Statistical Analysis\n",
    "\n",
    "# TODO: Calculate total consumption\n",
    "total_consumption = sum(monthly_consumption) # Sum all buildings' monthly consumption to get total # monthly_consumption is a given list \n",
    "\n",
    "# TODO: Calculate average consumption\n",
    "average_consumption = total_consumption / len(monthly_consumption) # Divide total by number of buildings to find average\n",
    "\n",
    "# TODO: Find maximum and minimum\n",
    "max_consumption = max(monthly_consumption) # Find the building with highest monthly consumption\n",
    "min_consumption = min(monthly_consumption) # Find the building with lowest monthly consumption\n",
    "\n",
    "# TODO: Print summary report\n",
    "print(\"=\" * 50)\n",
    "print(\"Statistical Summary\")\n",
    "print(\"=\" * 50)\n",
    "print(f\"Total Monthly Consumption: {total_consumption:,.0f} kWh\") # Print total consumption with comma as thousand separator\n",
    "print(f\"Average Monthly Consumption: {average_consumption:,.2f} kWh\") # Print average monthly consumption with comma as thousand separator and 2 decimals\n",
    "print(f\"Highest Consumption: {max_consumption:,.0f} kWh\") # Print highest consumption with comma as thousand separator\n",
    "print(f\"Lowest Consumption: {min_consumption:,.0f} kWh\") # Print lowest consumption with comma as thousand separator\n",
    "# Add more statistics"
   ]
  },
  {
   "cell_type": "markdown",
   "metadata": {},
   "source": [
    "### Part C: Find Buildings Above Average (7 points)\n",
    "\n",
    "Identify buildings with above-average consumption."
   ]
  },
  {
   "cell_type": "code",
   "execution_count": null,
   "metadata": {},
   "outputs": [
    {
     "name": "stdout",
     "output_type": "stream",
     "text": [
      "\n",
      "Buildings with above-average consumption:\n",
      "['Office A', 'Hospital D']\n",
      "Count: 2 out of 5 buildings\n"
     ]
    }
   ],
   "source": [
    "# Exercise 2C: Buildings Above Average\n",
    "\n",
    "# TODO: Create list for buildings above average\n",
    "above_average = []\n",
    "\n",
    "# TODO: Use for loop with conditional to find buildings above average\n",
    "for i, building in enumerate(buildings): # enumerate gives both the index (i) and the value (building) for each list element\n",
    "    if monthly_consumption[i] > average_consumption: # Check if the current building's monthly consumption is above average\n",
    "        \n",
    "        above_average.append(building) # Add to list if above average\n",
    "\n",
    "# TODO: Print results\n",
    "print(f\"\\nBuildings with above-average consumption:\")\n",
    "print(above_average) # Print the list of buildings above average\n",
    "print(f\"Count: {len(above_average)} out of {len(buildings)} buildings\") # Print how many buildings are above average out of total buildings"
   ]
  },
  {
   "cell_type": "markdown",
   "metadata": {},
   "source": [
    "---\n",
    "\n",
    "## Exercise 3: Energy Efficiency Classifier (25 points)\n",
    "\n",
    "Classify buildings based on their annual energy consumption per m².\n",
    "\n",
    "**Efficiency Ratings:**\n",
    "- A: < 50 kWh/m²/year (Excellent)\n",
    "- B: 50-100 kWh/m²/year (Good)\n",
    "- C: 100-150 kWh/m²/year (Average)\n",
    "- D: 150-200 kWh/m²/year (Poor)\n",
    "- F: > 200 kWh/m²/year (Very Poor)\n",
    "\n",
    "### Part A: Annual Energy Calculation (8 points)"
   ]
  },
  {
   "cell_type": "code",
   "execution_count": 11,
   "metadata": {},
   "outputs": [
    {
     "name": "stdout",
     "output_type": "stream",
     "text": [
      "Annual Energy Intensity:\n",
      "Office A: 408.00 kWh/m^2/year\n",
      "Retail B: 413.33 kWh/m^2/year\n",
      "School C: 180.00 kWh/m^2/year\n",
      "Hospital D: 375.00 kWh/m^2/year\n",
      "Apartment E: 304.29 kWh/m^2/year\n"
     ]
    }
   ],
   "source": [
    "# Exercise 3A: Annual Energy Calculation\n",
    "\n",
    "# TODO: Convert monthly intensity to annual (multiply by 12)\n",
    "annual_intensity = [] # Create an empty list to store annual values\n",
    "\n",
    "for intensity in energy_intensity: #energy_intensity list found in Exercise 2A\n",
    "    annual = intensity * 12 # Multiply monthly intensity by 12 to get annual intensity\n",
    "    annual_intensity.append(annual) # Add the calculated annual intensity to the list\n",
    "\n",
    "# TODO: Print each building with annual intensity\n",
    "print(\"Annual Energy Intensity:\") \n",
    "for i, building in enumerate(buildings): #the buildings list is given at start of exercise 2 # enumerate gives both the index (i) and the value (building) for each list element\n",
    "    print(f\"{building}: {annual_intensity[i]:.2f} kWh/m^2/year\") # Print building name and its ith corresponding annual energy intensity in kWh/m^2/year"
   ]
  },
  {
   "cell_type": "markdown",
   "metadata": {},
   "source": [
    "### Part B: Efficiency Classification (12 points)"
   ]
  },
  {
   "cell_type": "code",
   "execution_count": null,
   "metadata": {},
   "outputs": [
    {
     "name": "stdout",
     "output_type": "stream",
     "text": [
      "\n",
      "============================================================\n",
      "Energy Efficiency Report\n",
      "============================================================\n",
      "Office A: 408.00 kWh/m^2/year - Rating: F\n",
      "Retail B: 413.33 kWh/m^2/year - Rating: F\n",
      "School C: 180.00 kWh/m^2/year - Rating: D\n",
      "Hospital D: 375.00 kWh/m^2/year - Rating: F\n",
      "Apartment E: 304.29 kWh/m^2/year - Rating: F\n"
     ]
    }
   ],
   "source": [
    "# Exercise 3B: Efficiency Classification\n",
    "\n",
    "# TODO: Create list for ratings\n",
    "ratings = [] # Empty list to store energy efficiency ratings for each building\n",
    "\n",
    "# TODO: Classify each building\n",
    "for i, building in enumerate(buildings):\n",
    "    intensity = annual_intensity[i] # Get the annual energy intensity of each building \n",
    "    \n",
    "    # Use if/elif/else to assign rating\n",
    "    if intensity < 50:\n",
    "        rating = 'A' # Very efficient building\n",
    "    elif intensity < 100:\n",
    "        rating = 'B' # Efficient building\n",
    "    elif intensity < 150:\n",
    "        rating = 'C' # Moderate efficiency\n",
    "    elif intensity < 200:\n",
    "        rating = 'D' # Low efficiency\n",
    "    else:\n",
    "        rating = 'F' # Very poor efficiency\n",
    "    # TODO: Add more conditions for C, D, F\n",
    "    \n",
    "    ratings.append(rating) # Add the calculated rating to the list\n",
    "\n",
    "# TODO: Print formatted report\n",
    "print(\"\\n\" + \"=\" * 60)\n",
    "print(\"Energy Efficiency Report\")\n",
    "print(\"=\" * 60)\n",
    "for i, building in enumerate(buildings):\n",
    "    print(f\"{building}: {annual_intensity[i]:.2f} kWh/m^2/year - Rating: {ratings[i]}\") # Print building name, annual energy intensity, and its rating"
   ]
  },
  {
   "cell_type": "markdown",
   "metadata": {},
   "source": [
    "### Part C: Rating Summary (5 points)"
   ]
  },
  {
   "cell_type": "code",
   "execution_count": null,
   "metadata": {},
   "outputs": [
    {
     "name": "stdout",
     "output_type": "stream",
     "text": [
      "\n",
      "Rating Summary:\n",
      "  A (Excellent): 0\n",
      "  B (Good):      0\n",
      "  C (Average):   0\n",
      "  D (Poor):      1\n",
      "  F (Very Poor): 4\n",
      "\n",
      "Most Common Rating: F (4 buildings)\n"
     ]
    }
   ],
   "source": [
    "# Exercise 3C: Rating Summary\n",
    "\n",
    "# TODO: Count buildings in each rating category\n",
    "count_a = ratings.count('A') # Count how many buildings got 'A' from the ratings list\n",
    "count_b = ratings.count('B') # Count how many buildings got 'B' from the ratings list\n",
    "count_c = ratings.count('C') # Count how many buildings got 'C' from the ratings list\n",
    "count_d = ratings.count('D') # Count how many buildings got 'D' from the ratings list\n",
    "count_f = ratings.count('F') # Count how many buildings got 'F' from the ratings list\n",
    "\n",
    "# TODO: Print summary\n",
    "print(\"\\nRating Summary:\")\n",
    "print(f\"  A (Excellent): {count_a}\") # Print number of 'A' rated buildings\n",
    "print(f\"  B (Good):      {count_b}\") # Print number of 'B' rated buildings\n",
    "print(f\"  C (Average):   {count_c}\") # Print number of 'C' rated buildings\n",
    "print(f\"  D (Poor):      {count_d}\") # Print number of 'D' rated buildings\n",
    "print(f\"  F (Very Poor): {count_f}\") # Print number of 'F' rated buildings\n",
    "# Add more ratings\n",
    "\n",
    "# TODO: Find most common rating\n",
    "rating_counts = { # we create a dictionary named rating_counts which stores key - value pairs\n",
    "    'A': count_a,\n",
    "    'B': count_b,\n",
    "    'C': count_c,\n",
    "    'D': count_d,\n",
    "    'F': count_f\n",
    "    } \n",
    "\n",
    "most_common_rating = max(rating_counts, key=rating_counts.get) \n",
    "# rating_counts.get is a function that returns the value for a given key\n",
    "# max with key=... finds the rating with the highest count in the dictionary inside the list rating_counts\n",
    "# the function returns the key value that has the most counts \n",
    "\n",
    "print(f\"\\nMost Common Rating: {most_common_rating} ({rating_counts[most_common_rating]} buildings)\")\n",
    "# from rating_counts dictionary we take the value for the most_common_rating key \n",
    "# Hint: You can create a dictionary or compare counts"
   ]
  },
  {
   "cell_type": "markdown",
   "metadata": {},
   "source": [
    "---\n",
    "\n",
    "## Exercise 4: Energy Cost Calculator (20 points)\n",
    "\n",
    "### Part A: Simple Cost Function (8 points)"
   ]
  },
  {
   "cell_type": "code",
   "execution_count": null,
   "metadata": {},
   "outputs": [
    {
     "name": "stdout",
     "output_type": "stream",
     "text": [
      "Monthly cost for 50000 kWh at $0.12/kWh: $6,000.00\n"
     ]
    }
   ],
   "source": [
    "# Exercise 4A: Simple Cost Function\n",
    "\n",
    "def calculate_monthly_cost(consumption_kwh, rate_per_kwh): # define calculate_monthly_cost function with consumption_kwh and rate_per_kwh parameters\n",
    "    \"\"\"\n",
    "    Calculate monthly energy cost.\n",
    "    \n",
    "    Parameters:\n",
    "        consumption_kwh (float): Monthly energy consumption in kWh\n",
    "        rate_per_kwh (float): Energy rate in USD/kWh\n",
    "    \n",
    "    Returns:\n",
    "        float: Monthly cost in USD\n",
    "    \"\"\"\n",
    "    # TODO: Calculate and return cost\n",
    "    cost = consumption_kwh * rate_per_kwh # Multiply consumption by rate to get cost\n",
    "    return cost # Return the calculated monthly cost\n",
    "\n",
    "# TODO: Test the function\n",
    "test_consumption = 50000  # kWh\n",
    "test_rate = 0.12  # USD/kWh\n",
    "result = calculate_monthly_cost(test_consumption, test_rate)\n",
    "print(f\"Monthly cost for {test_consumption} kWh at ${test_rate}/kWh: ${result:,.2f}\")\n",
    "# Print result formatted with commas and 2 decimal places"
   ]
  },
  {
   "cell_type": "markdown",
   "metadata": {},
   "source": [
    "### Part B: Peak/Off-Peak Cost Function (12 points)"
   ]
  },
  {
   "cell_type": "code",
   "execution_count": null,
   "metadata": {},
   "outputs": [
    {
     "name": "stdout",
     "output_type": "stream",
     "text": [
      "\n",
      "Tiered Pricing Analysis for 85000 kWh:\n",
      "  Peak cost (60%): $7,650.00\n",
      "  Off-peak cost (40%): $2,720.00\n",
      "  Total cost: $10,370.00\n"
     ]
    }
   ],
   "source": [
    "# Exercise 4B: Peak/Off-Peak Cost Function\n",
    "\n",
    "def calculate_tiered_cost(total_consumption, peak_percentage=0.6): #peak_percentage = 0.6 is a default value\n",
    "    \"\"\"\n",
    "    Calculate cost with peak/off-peak pricing.\n",
    "    \n",
    "    Parameters:\n",
    "        total_consumption (float): Total monthly consumption in kWh\n",
    "        peak_percentage (float): Fraction of consumption during peak hours (default 0.6)\n",
    "    \n",
    "    Returns:\n",
    "        tuple: (peak_cost, off_peak_cost, total_cost)\n",
    "    \"\"\"\n",
    "    peak_rate = 0.15  # USD/kWh # peak_rate and off_peak_rate are given\n",
    "    off_peak_rate = 0.08  # USD/kWh\n",
    "    \n",
    "    # TODO: Calculate peak consumption\n",
    "    peak_consumption = total_consumption * peak_percentage # multiplication of parameters total_consumption and peak_percentage\n",
    "    \n",
    "    # TODO: Calculate off-peak consumption\n",
    "    off_peak_consumption = total_consumption * (1 - peak_percentage) # Remaining consumption\n",
    "    \n",
    "    # TODO: Calculate costs\n",
    "    peak_cost = peak_consumption * peak_rate # Cost for peak consumption\n",
    "    off_peak_cost = off_peak_consumption * off_peak_rate # Cost for off-peak consumption\n",
    "    total_cost = peak_cost + off_peak_cost  # Total monthly cost\n",
    "    \n",
    "    return peak_cost, off_peak_cost, total_cost\n",
    "\n",
    "# TODO: Test the function\n",
    "test_consumption = 85000  # kWh\n",
    "peak_cost, off_peak_cost, total_cost = calculate_tiered_cost(test_consumption, 0.6) # The function returns three values: peak_cost, off_peak_cost, and total_cost\n",
    "\n",
    "print(f\"\\nTiered Pricing Analysis for {test_consumption} kWh:\")\n",
    "print(f\"  Peak cost (60%): ${peak_cost:,.2f}\")\n",
    "print(f\"  Off-peak cost (40%): ${off_peak_cost:,.2f}\")\n",
    "print(f\"  Total cost: ${total_cost:,.2f}\")"
   ]
  },
  {
   "cell_type": "markdown",
   "metadata": {},
   "source": [
    "---\n",
    "\n",
    "## Exercise 5: Challenge - Energy Optimization (10 points)\n",
    "\n",
    "### Part A: Most and Least Efficient Buildings (5 points)"
   ]
  },
  {
   "cell_type": "code",
   "execution_count": null,
   "metadata": {},
   "outputs": [
    {
     "name": "stdout",
     "output_type": "stream",
     "text": [
      "============================================================\n",
      "Efficiency Comparison\n",
      "============================================================\n",
      "Most efficient: School C\n",
      "  Intensity: 180.00 kWh/m^2/year\n",
      "  Rating: D\n",
      "\n",
      "Least efficient: Retail B\n",
      "  Intensity: 413.33 kWh/m^2/year\n",
      "  Rating: F\n",
      "\n",
      "Percentage difference: 129.6%\n"
     ]
    }
   ],
   "source": [
    "# Exercise 5A: Most and Least Efficient\n",
    "\n",
    "# TODO: Find minimum and maximum annual intensity\n",
    "min_intensity = min(annual_intensity) # Smallest value = most efficient # annual_intensity list is created in Exercise 3A  \n",
    "max_intensity = max(annual_intensity) # Largest value = least efficient\n",
    "\n",
    "# TODO: Find which buildings these correspond to\n",
    "min_index = annual_intensity.index(min_intensity) # Index (position) of the smallest intensity \n",
    "max_index = annual_intensity.index(max_intensity) # Index (position) of the largest intensity\n",
    "\n",
    "# TODO: Get building names\n",
    "most_efficient = buildings[min_index] # Building with lowest energy intensity # the buildings list was given in Exercise 2 \n",
    "# Lists accept integer indices so we created min_index\n",
    "least_efficient = buildings[max_index] # Building with highest energy intensity\n",
    "\n",
    "# TODO: Print results\n",
    "print(\"=\" * 60)\n",
    "print(\"Efficiency Comparison\")\n",
    "print(\"=\" * 60)\n",
    "print(f\"Most efficient: {most_efficient}\")\n",
    "print(f\"  Intensity: {min_intensity:.2f} kWh/m^2/year\")\n",
    "print(f\"  Rating: {ratings[min_index]}\") # the ratings list was created in exercise 3B \n",
    "\n",
    "print(f\"\\nLeast efficient: {least_efficient}\")\n",
    "print(f\"  Intensity: {max_intensity:.2f} kWh/m^2/year\")\n",
    "print(f\"  Rating: {ratings[max_index]}\") # the ratings list was created in exercise 3B\n",
    "# Add least efficient\n",
    "\n",
    "# TODO: Calculate percentage difference\n",
    "percentage_diff = ((max_intensity - min_intensity) / min_intensity) * 100\n",
    "print(f\"\\nPercentage difference: {percentage_diff:.1f}%\")"
   ]
  },
  {
   "cell_type": "markdown",
   "metadata": {},
   "source": [
    "### Part B: Energy Savings Potential (5 points)\n",
    "\n",
    "Calculate savings if all buildings achieved Rating B (100 kWh/m²/year)."
   ]
  },
  {
   "cell_type": "code",
   "execution_count": null,
   "metadata": {},
   "outputs": [
    {
     "name": "stdout",
     "output_type": "stream",
     "text": [
      "\n",
      "============================================================\n",
      "Energy Savings Potential\n",
      "============================================================\n",
      "Target: Rating B (100 kWh/m^2/year)\n",
      "\n",
      "Office A: Could save 770,000 kWh/year\n",
      "Retail B: Could save 564,000 kWh/year\n",
      "School C: Could save 256,000 kWh/year\n",
      "Hospital D: Could save 1,100,000 kWh/year\n",
      "Apartment E: Could save 572,000 kWh/year\n",
      "\n",
      "Total Potential Savings: 3,262,000 kWh/year\n",
      "Annual Cost Savings: $391,440.00\n"
     ]
    }
   ],
   "source": [
    "# Exercise 5B: Energy Savings Potential\n",
    "\n",
    "target_intensity = 100  # kWh/m^2/year for Rating B\n",
    "total_savings_kwh = 0   # Initialize total savings\n",
    "\n",
    "print(\"\\n\" + \"=\" * 60)\n",
    "print(\"Energy Savings Potential\")\n",
    "print(\"=\" * 60)\n",
    "print(f\"Target: Rating B ({target_intensity} kWh/m^2/year)\\n\")\n",
    "\n",
    "# TODO: Loop through buildings and calculate savings\n",
    "for i, building in enumerate(buildings):\n",
    "    # Check if building has worse rating than B (C, D, or F)\n",
    "    if annual_intensity[i] > target_intensity: #annual_intensity list is created in exercise 3A \n",
    "        # Calculate current annual consumption\n",
    "        current_consumption = annual_intensity[i] * floor_area[i] # current consumption of each building\n",
    "        \n",
    "        # Calculate target consumption\n",
    "        target_consumption = target_intensity * floor_area[i] # target consumption of each building is calculated\n",
    "        \n",
    "        # Calculate savings\n",
    "        savings = current_consumption - target_consumption # energy savings are calculated by subtracting target_consumption from current_consumption\n",
    "        \n",
    "        # Add to total\n",
    "        total_savings_kwh += savings \n",
    "        \n",
    "        print(f\"{building}: Could save {savings:,.0f} kWh/year\") # Print potential savings for this building\n",
    "\n",
    "# TODO: Calculate cost savings\n",
    "cost_savings = total_savings_kwh * 0.12  # Multiply total kWh savings by standard rate ($/kWh)\n",
    "\n",
    "print(f\"\\nTotal Potential Savings: {total_savings_kwh:,.0f} kWh/year\")\n",
    "print(f\"Annual Cost Savings: ${cost_savings:,.2f}\")"
   ]
  },
  {
   "cell_type": "markdown",
   "metadata": {},
   "source": [
    "---\n",
    "\n",
    "## Bonus Challenge (Optional, +5 points)\n",
    "\n",
    "Create an interactive energy calculator that gets user input."
   ]
  },
  {
   "cell_type": "code",
   "execution_count": null,
   "metadata": {},
   "outputs": [
    {
     "name": "stdout",
     "output_type": "stream",
     "text": [
      "Interactive Building Energy Calculator\n",
      "============================================================\n",
      "\n",
      "------------------------------------------------------------\n",
      "Building: Shopping Mall \n",
      "Energy Intensity: 0.12 kWh/m²/year\n",
      "Efficiency Rating: A or B (Efficient)\n",
      "------------------------------------------------------------\n",
      "Thank you for using the calculator!\n"
     ]
    }
   ],
   "source": [
    "# Bonus: Interactive Energy Calculator\n",
    "\n",
    "# TODO: Create interactive program with input() and try/except\n",
    "# Use a while loop to allow multiple buildings\n",
    "# Handle errors gracefully\n",
    "\n",
    "# Starter code:\n",
    "print(\"Interactive Building Energy Calculator\")\n",
    "print(\"=\" * 60)\n",
    "\n",
    "while True: # while True: in Python is used to create an infinite loop.\n",
    "    # Get user input\n",
    "    name = input(\"\\nEnter building name (or 'quit' to exit): \") # Ask the user to enter the building name or 'quit' to exit\n",
    "     \n",
    "    if name.lower() == 'quit':\n",
    "        print(\"Thank you for using the calculator!\")\n",
    "        break # Exit the loop\n",
    "    \n",
    "    try: # The code inside this block may cause an error\n",
    "        # Ask the user to input annual energy consumption (kWh)\n",
    "        energy_kwh = float(input(\"Enter annual energy consumption (kWh): \"))\n",
    "        # Ask the user to input total floor area (m²)\n",
    "        area_m2 = float(input(\"Enter total floor area (m²): \"))\n",
    "        \n",
    "        # Validate that floor area is positive\n",
    "        if area_m2 <= 0:\n",
    "            raise ValueError(\"Area must be greater than zero.\") \n",
    "            # Manually trigger an error if the area is zero or negative\n",
    "        \n",
    "        # Calculate energy intensity in kWh/m²/year\n",
    "        intensity = energy_kwh / area_m2\n",
    "\n",
    "        # Determine energy efficiency rating based on intensity\n",
    "        if intensity <= 100:\n",
    "            rating = \"A or B (Efficient)\"\n",
    "        elif intensity <= 150:\n",
    "            rating = \"C (Moderate)\"\n",
    "        elif intensity <= 200:\n",
    "            rating = \"D (Inefficient)\"\n",
    "        else:\n",
    "            rating = \"F (Very Inefficient)\"\n",
    "\n",
    "        # Display the results for the building\n",
    "        print(\"\\n\" + \"-\" * 60)\n",
    "        print(f\"Building: {name}\")\n",
    "        print(f\"Energy Intensity: {intensity:.2f} kWh/m²/year\")\n",
    "        print(f\"Efficiency Rating: {rating}\")\n",
    "        print(\"-\" * 60)\n",
    "        pass\n",
    "        \n",
    "    except ValueError:\n",
    "        # Handle invalid numeric inputs\n",
    "        print(\"Error: Please enter valid numbers!\")\n",
    "    except Exception as e:\n",
    "        # Handle any other unexpected errors\n",
    "        # It prevents the program from crashing and shows an error message instead\n",
    "        print(f\"Error: {e}\")\n",
    "        # This catches any unexpected errors that are not caught by previous except blocks"
   ]
  },
  {
   "cell_type": "markdown",
   "metadata": {},
   "source": [
    "---\n",
    "\n",
    "## Reflection Questions\n",
    "\n",
    "Answer these questions in the markdown cell below:\n",
    "\n",
    "1. What was the most challenging part of this lab?\n",
    "2. How could energy efficiency analysis help civil engineers in real projects?\n",
    "3. What additional features would make this calculator more useful?"
   ]
  },
  {
   "cell_type": "markdown",
   "metadata": {},
   "source": [
    "### Your Answers:\n",
    "\n",
    "1. To be able to explain logic of each code.\n",
    "\n",
    "2. It is very helpful in terms of savings calculation, optimization of designs, selection of materials and sustainability.\n",
    "\n",
    "3. The differentiation of values can be taken into account for example if the values change according to different periods in a year (in annual counts) The calculations can be made more precise. \n"
   ]
  },
  {
   "cell_type": "markdown",
   "metadata": {},
   "source": [
    "---\n",
    "\n",
    "## Submission Checklist\n",
    "\n",
    "Before submitting, make sure:\n",
    "- [ ] All code cells have been executed and show outputs\n",
    "- [ ] All TODO items have been completed\n",
    "- [ ] Code includes comments explaining your logic\n",
    "- [ ] Output is formatted clearly with appropriate decimal places\n",
    "- [ ] Reflection questions are answered\n",
    "- [ ] File is saved as `lab01_energy_calculator.ipynb`\n",
    "\n",
    "**Good luck! 🌟**"
   ]
  }
 ],
 "metadata": {
  "kernelspec": {
   "display_name": "Python 3",
   "language": "python",
   "name": "python3"
  },
  "language_info": {
   "codemirror_mode": {
    "name": "ipython",
    "version": 3
   },
   "file_extension": ".py",
   "mimetype": "text/x-python",
   "name": "python",
   "nbconvert_exporter": "python",
   "pygments_lexer": "ipython3",
   "version": "3.13.7"
  }
 },
 "nbformat": 4,
 "nbformat_minor": 4
}
